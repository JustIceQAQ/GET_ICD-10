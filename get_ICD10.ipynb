{
 "cells": [
  {
   "cell_type": "code",
   "execution_count": null,
   "metadata": {},
   "outputs": [],
   "source": [
    "import pandas as pd\n",
    "from tqdm import tqdm"
   ]
  },
  {
   "cell_type": "code",
   "execution_count": null,
   "metadata": {},
   "outputs": [],
   "source": [
    "def clean_label(df):\n",
    "    df['label'] = df['label'].replace(df.at['ID'], '').strip()\n",
    "    return df['label']\n",
    "# ICD-10 Version:2008, 2010, 2014,  2015, 2016, 2019\n",
    "YEAR  = '2019'"
   ]
  },
  {
   "cell_type": "code",
   "execution_count": null,
   "metadata": {},
   "outputs": [],
   "source": [
    "print('RUN LV0')\n",
    "ICDTree1 = pd.read_json(f'https://icd.who.int/browse10/{YEAR}/en/JsonGetRootConcepts?useHtml=false')"
   ]
  },
  {
   "cell_type": "code",
   "execution_count": null,
   "metadata": {},
   "outputs": [],
   "source": [
    "ICDTree1['label'] = ICDTree1.apply(clean_label, axis=1)"
   ]
  },
  {
   "cell_type": "code",
   "execution_count": null,
   "metadata": {},
   "outputs": [],
   "source": [
    "# LV1\n",
    "ICDTree2list = []\n",
    "for lv1 in tqdm(ICDTree1.index, ascii=True, desc='RUN LV1'):\n",
    "    ICDTree2raw = pd.read_json(\n",
    "        'https://icd.who.int/browse10/{}/en/JsonGetChildrenConcepts?ConceptId={}&useHtml=false&showAdoptedChildren=true'.format(\n",
    "            YEAR, ICDTree1.at[lv1, \"ID\"]))\n",
    "    ICDTree2raw['LV1_ID'] = ICDTree1.at[lv1, 'ID']\n",
    "    ICDTree2raw['LV1_label'] = ICDTree1.at[lv1, 'label']\n",
    "    ICDTree2list.extend(ICDTree2raw.to_dict('r'))\n",
    "ICDTree2 = pd.DataFrame(ICDTree2list)\n",
    "ICDTree2['label'] = ICDTree2.apply(clean_label, axis=1)"
   ]
  },
  {
   "cell_type": "code",
   "execution_count": null,
   "metadata": {},
   "outputs": [],
   "source": [
    "# LV2\n",
    "ICDTree3list = []\n",
    "for lv1 in tqdm(ICDTree2.index, ascii=True, desc='RUN LV2'):\n",
    "    ICDTree3raw = pd.read_json(\n",
    "        'https://icd.who.int/browse10/{}/en/JsonGetChildrenConcepts?ConceptId={}&useHtml=false&showAdoptedChildren=true'.format(\n",
    "            YEAR,ICDTree2.at[lv1, \"ID\"]))\n",
    "    ICDTree3raw['LV1_ID'] = ICDTree2.at[lv1, 'LV1_ID']\n",
    "    ICDTree3raw['LV1_label'] = ICDTree2.at[lv1, 'LV1_label']\n",
    "    ICDTree3raw['LV2_ID'] = ICDTree2.at[lv1, 'ID']\n",
    "    ICDTree3raw['LV2_label'] = ICDTree2.at[lv1, 'label']\n",
    "    ICDTree3list.extend(ICDTree3raw.to_dict('r'))\n",
    "ICDTree3 = pd.DataFrame(ICDTree3list)\n",
    "ICDTree3['label'] = ICDTree3.apply(clean_label, axis=1)"
   ]
  },
  {
   "cell_type": "code",
   "execution_count": null,
   "metadata": {},
   "outputs": [],
   "source": [
    "# LV3\n",
    "ICDTree4list = []\n",
    "for lv1 in tqdm(ICDTree3.index, ascii=True, desc='RUN LV3'):\n",
    "    ICDTree4raw = pd.read_json(\n",
    "        'https://icd.who.int/browse10/{}/en/JsonGetChildrenConcepts?ConceptId={}&useHtml=false&showAdoptedChildren=true'.format(\n",
    "            YEAR,ICDTree3.at[lv1, \"ID\"]))\n",
    "    ICDTree4raw['LV1_ID'] = ICDTree3.at[lv1, 'LV1_ID']\n",
    "    ICDTree4raw['LV1_label'] = ICDTree3.at[lv1, 'LV1_label']\n",
    "    ICDTree4raw['LV2_ID'] = ICDTree3.at[lv1, 'LV2_ID']\n",
    "    ICDTree4raw['LV2_label'] = ICDTree3.at[lv1, 'LV2_label']\n",
    "    ICDTree4raw['LV3_ID'] = ICDTree3.at[lv1, 'ID']\n",
    "    ICDTree4raw['LV3_label'] = ICDTree3.at[lv1, 'label']\n",
    "    ICDTree4list.extend(ICDTree4raw.to_dict('r'))\n",
    "ICDTree4 = pd.DataFrame(ICDTree4list)\n",
    "ICDTree4['label'] = ICDTree4.apply(clean_label, axis=1)\n",
    "ICDTree4.rename({'ID': 'LV4_ID', 'label': 'LV4_label'}, axis=1, inplace=True)"
   ]
  },
  {
   "cell_type": "code",
   "execution_count": null,
   "metadata": {},
   "outputs": [],
   "source": [
    "ICDTree4[['LV1_ID', 'LV1_label', 'LV2_ID', 'LV2_label', 'LV3_ID', 'LV3_label', 'LV4_ID', 'LV4_label']]\n",
    "#.to_excel('{}_ICD10.xlsx'.format('20200225'), index=False)"
   ]
  }
 ],
 "metadata": {
  "kernelspec": {
   "display_name": "Python 3",
   "language": "python",
   "name": "python3"
  },
  "language_info": {
   "codemirror_mode": {
    "name": "ipython",
    "version": 3
   },
   "file_extension": ".py",
   "mimetype": "text/x-python",
   "name": "python",
   "nbconvert_exporter": "python",
   "pygments_lexer": "ipython3",
   "version": "3.7.6"
  }
 },
 "nbformat": 4,
 "nbformat_minor": 4
}
